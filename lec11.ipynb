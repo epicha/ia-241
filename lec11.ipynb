{
 "cells": [
  {
   "cell_type": "code",
   "execution_count": 2,
   "id": "widespread-riverside",
   "metadata": {},
   "outputs": [
    {
     "name": "stdout",
     "output_type": "stream",
     "text": [
      "Recognizing the nation's history of racism and violence perpetrated against Black communities and communities of color, town halls for the JMU community are scheduled on June 3, 4 and 11 to better understand and address racial injustice and inequities.\n",
      "\n",
      "“We know this grief and pain extends throughout our community, and want you to know that on behalf of the institution and as an individual, I stand with you,” said JMU President Jonathan R. Alger. “We will do everything we can to help create a better tomorrow – one in which no individual has to live in fear that they may someday become a target of hate.” \n",
      "\n",
      "The town halls will allow for students, faculty and staff to share personal experiences and suggestions for ways in which colleagues and decision-makers can make Madison a more welcoming and inclusive place for under-represented students, faculty, and staff — now and in the future. Details are as follows. \n",
      "\n",
      "JMU and Community Town Hall\n",
      "6/3 @ 7 p.m.\n",
      "Hosted by: The James Madison Center for Civic Engagement\n",
      "https://bit.ly/JMUEndRacism \n",
      "\n",
      "\n",
      "Faculty and Staff Town Hall\n",
      "6/4 @ 4 p.m.\n",
      "Hosted by: Heather Coltman, Provost and Tim Miller, Vice President for Student Affairs\n",
      "https://bit.ly/JMU-FacultyStaff-Town-Hall\n",
      "\n",
      "\n",
      "Student Town Hall\n",
      "6/11 @ 4 p.m.\n",
      "Hosted by: Heather Coltman, Provost and Tim Miller, Vice President for Student Affairs\n",
      "https://bit.ly/JMU-Student-Town-Hall  \n",
      "\n",
      "# # #\n",
      "\n",
      "Back to Top\n",
      "\n",
      "Published: Tuesday, June 2, 2020\n",
      "\n",
      "Last Updated: Tuesday, June 2, 2020\n"
     ]
    }
   ],
   "source": [
    "jmu_news =open('jmu_news.txt','r')\n",
    "\n",
    "news_content =jmu_news.read()\n",
    "\n",
    "print(news_content)"
   ]
  },
  {
   "cell_type": "code",
   "execution_count": 3,
   "id": "czech-seller",
   "metadata": {},
   "outputs": [
    {
     "name": "stdout",
     "output_type": "stream",
     "text": [
      "Recognizing the nation's history of racism and violence perpetrated against Black communities and communities of color, town halls for the JMU community are scheduled on June 3, 4 and 11 to better understand and address racial injustice and inequities.\n",
      "\n",
      "“We know this grief and pain extends throughout our community, and want you to know that on behalf of the institution and as an individual, I stand with you,” said JMU President Jonathan R. Alger. “We will do everything we can to help create a better tomorrow – one in which no individual has to live in fear that they may someday become a target of hate.” \n",
      "\n",
      "The town halls will allow for students, faculty and staff to share personal experiences and suggestions for ways in which colleagues and decision-makers can make Madison a more welcoming and inclusive place for under-represented students, faculty, and staff — now and in the future. Details are as follows. \n",
      "\n",
      "JMU and Community Town Hall\n",
      "6/3 @ 7 p.m.\n",
      "Hosted by: The James Madison Center for Civic Engagement\n",
      "https://bit.ly/JMUEndRacism \n",
      "\n",
      "\n",
      "Faculty and Staff Town Hall\n",
      "6/4 @ 4 p.m.\n",
      "Hosted by: Heather Coltman, Provost and Tim Miller, Vice President for Student Affairs\n",
      "https://bit.ly/JMU-FacultyStaff-Town-Hall\n",
      "\n",
      "\n",
      "Student Town Hall\n",
      "6/11 @ 4 p.m.\n",
      "Hosted by: Heather Coltman, Provost and Tim Miller, Vice President for Student Affairs\n",
      "https://bit.ly/JMU-Student-Town-Hall  \n",
      "\n",
      "# # #\n",
      "\n",
      "Back to Top\n",
      "\n",
      "Published: Tuesday, June 2, 2020\n",
      "\n",
      "Last Updated: Tuesday, June 2, 2020\n"
     ]
    }
   ],
   "source": [
    "with open('jmu_news.txt','r') as jmu_news:\n",
    "    print(jmu_news.read())"
   ]
  },
  {
   "cell_type": "code",
   "execution_count": 5,
   "id": "cathedral-casino",
   "metadata": {},
   "outputs": [
    {
     "name": "stdout",
     "output_type": "stream",
     "text": [
      "[('a', 3), ('b', 2)]\n"
     ]
    }
   ],
   "source": [
    "from collections import Counter\n",
    "\n",
    "count_result = Counter(['a','a','a','b','b','c'])\n",
    "\n",
    "print(count_result.most_common(2))"
   ]
  },
  {
   "cell_type": "code",
   "execution_count": 9,
   "id": "thrown-ideal",
   "metadata": {},
   "outputs": [
    {
     "name": "stdout",
     "output_type": "stream",
     "text": [
      "Counter({'and': 18, 'for': 7, 'to': 6, 'the': 4, 'of': 4, 'in': 4, 'JMU': 3, 'June': 3, '4': 3, 'President': 3, 'a': 3, 'Town': 3, 'Hall': 3, '@': 3, 'p.m.': 3, 'Hosted': 3, 'by:': 3, 'Student': 3, '#': 3, 'communities': 2, 'town': 2, 'halls': 2, 'are': 2, 'on': 2, 'better': 2, '“We': 2, 'know': 2, 'that': 2, 'as': 2, 'will': 2, 'can': 2, 'which': 2, 'The': 2, 'students,': 2, 'staff': 2, 'Madison': 2, 'Heather': 2, 'Coltman,': 2, 'Provost': 2, 'Tim': 2, 'Miller,': 2, 'Vice': 2, 'Affairs': 2, 'Tuesday,': 2, '2,': 2, '2020': 2, 'Recognizing': 1, \"nation's\": 1, 'history': 1, 'racism': 1, 'violence': 1, 'perpetrated': 1, 'against': 1, 'Black': 1, 'color,': 1, 'community': 1, 'scheduled': 1, '3,': 1, '11': 1, 'understand': 1, 'address': 1, 'racial': 1, 'injustice': 1, 'inequities.': 1, 'this': 1, 'grief': 1, 'pain': 1, 'extends': 1, 'throughout': 1, 'our': 1, 'community,': 1, 'want': 1, 'you': 1, 'behalf': 1, 'institution': 1, 'an': 1, 'individual,': 1, 'I': 1, 'stand': 1, 'with': 1, 'you,”': 1, 'said': 1, 'Jonathan': 1, 'R.': 1, 'Alger.': 1, 'do': 1, 'everything': 1, 'we': 1, 'help': 1, 'create': 1, 'tomorrow': 1, '–': 1, 'one': 1, 'no': 1, 'individual': 1, 'has': 1, 'live': 1, 'fear': 1, 'they': 1, 'may': 1, 'someday': 1, 'become': 1, 'target': 1, 'hate.”': 1, 'allow': 1, 'faculty': 1, 'share': 1, 'personal': 1, 'experiences': 1, 'suggestions': 1, 'ways': 1, 'colleagues': 1, 'decision-makers': 1, 'make': 1, 'more': 1, 'welcoming': 1, 'inclusive': 1, 'place': 1, 'under-represented': 1, 'faculty,': 1, '—': 1, 'now': 1, 'future.': 1, 'Details': 1, 'follows.': 1, 'Community': 1, '6/3': 1, '7': 1, 'James': 1, 'Center': 1, 'Civic': 1, 'Engagement': 1, 'https://bit.ly/JMUEndRacism': 1, 'Faculty': 1, 'Staff': 1, '6/4': 1, 'https://bit.ly/JMU-FacultyStaff-Town-Hall': 1, '6/11': 1, 'https://bit.ly/JMU-Student-Town-Hall': 1, 'Back': 1, 'Top': 1, 'Published:': 1, 'Last': 1, 'Updated:': 1})\n"
     ]
    }
   ],
   "source": [
    "with open ('jmu_news.txt','r') as jmu_news:\n",
    "    news_content=jmu_news.read()\n",
    "    \n",
    "    word_list=news_content.split()\n",
    "    result=Counter(word_list)\n",
    "    print(result)"
   ]
  },
  {
   "cell_type": "code",
   "execution_count": 10,
   "id": "floral-lesson",
   "metadata": {},
   "outputs": [],
   "source": [
    "import json\n",
    "from pprint import pprint"
   ]
  },
  {
   "cell_type": "code",
   "execution_count": 13,
   "id": "soviet-input",
   "metadata": {},
   "outputs": [
    {
     "name": "stdout",
     "output_type": "stream",
     "text": [
      "{'id': 'http://www.jmu.edu',\n",
      " 'og_object': {'description': 'Welcome to the James Madison University website',\n",
      "               'id': '704684182917256',\n",
      "               'title': 'JMU Homepage',\n",
      "               'type': 'website',\n",
      "               'updated_time': '2018-02-10T03:45:42+0000'},\n",
      " 'share': {'comment_count': 0, 'share_count': 7657}}\n"
     ]
    }
   ],
   "source": [
    "with open('demo.json','r') as json_file:\n",
    "    json_dict =json.load(json_file)\n",
    "    pprint(json_dict)"
   ]
  },
  {
   "cell_type": "code",
   "execution_count": null,
   "id": "european-toilet",
   "metadata": {},
   "outputs": [],
   "source": []
  }
 ],
 "metadata": {
  "kernelspec": {
   "display_name": "conda_python3",
   "language": "python",
   "name": "conda_python3"
  },
  "language_info": {
   "codemirror_mode": {
    "name": "ipython",
    "version": 3
   },
   "file_extension": ".py",
   "mimetype": "text/x-python",
   "name": "python",
   "nbconvert_exporter": "python",
   "pygments_lexer": "ipython3",
   "version": "3.6.13"
  }
 },
 "nbformat": 4,
 "nbformat_minor": 5
}
